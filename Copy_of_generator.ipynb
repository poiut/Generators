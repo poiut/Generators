{
  "cells": [
    {
      "cell_type": "markdown",
      "metadata": {
        "id": "view-in-github",
        "colab_type": "text"
      },
      "source": [
        "<a href=\"https://colab.research.google.com/github/poiut/Generators/blob/master/Copy_of_generator.ipynb\" target=\"_parent\"><img src=\"https://colab.research.google.com/assets/colab-badge.svg\" alt=\"Open In Colab\"/></a>"
      ]
    },
    {
      "cell_type": "markdown",
      "id": "isolated-storm",
      "metadata": {
        "id": "isolated-storm"
      },
      "source": [
        "# Generators and Iterators"
      ]
    },
    {
      "cell_type": "code",
      "source": [],
      "metadata": {
        "id": "c0Y2ARBF8vkM"
      },
      "id": "c0Y2ARBF8vkM",
      "execution_count": null,
      "outputs": []
    },
    {
      "cell_type": "markdown",
      "id": "planned-young",
      "metadata": {
        "id": "planned-young"
      },
      "source": [
        "[Click here to run this chapter on Colab](https://colab.research.google.com/github/AllenDowney/DSIRP/blob/main/notebooks/generator.ipynb)"
      ]
    },
    {
      "cell_type": "markdown",
      "id": "recreational-remark",
      "metadata": {
        "id": "recreational-remark"
      },
      "source": [
        "This chapter introduces generator functions, which are functions that yield a stream of values, rather than returning a single value.\n",
        "\n",
        "To demonstrate their use, we'll explore Cartesian products, permutations, and combinations, using playing cards as an example."
      ]
    },
    {
      "cell_type": "markdown",
      "id": "historic-rally",
      "metadata": {
        "id": "historic-rally"
      },
      "source": [
        "## Generators\n",
        "\n",
        "As a first example, we'll write a generator function that generates the playing cards in a standard 52-card deck.\n",
        "This example is inspired by an example in Peter Norvig's [\"A Concrete Introduction to Probability (using Python)\"](https://nbviewer.ipython.org/url/norvig.com/ipython/Probability.ipynb).\n",
        "\n",
        "Here are Unicode strings that represent the set of suits and the set of ranks."
      ]
    },
    {
      "cell_type": "code",
      "execution_count": null,
      "id": "racial-nylon",
      "metadata": {
        "id": "racial-nylon"
      },
      "outputs": [],
      "source": [
        "suits = u'♠♥♦♣'\n",
        "ranks = u'AKQJ⑽98765432'"
      ]
    },
    {
      "cell_type": "markdown",
      "id": "received-secondary",
      "metadata": {
        "id": "received-secondary"
      },
      "source": [
        "And here's a nested for loop that enumerates all pairings of a rank with a suit."
      ]
    },
    {
      "cell_type": "code",
      "execution_count": null,
      "id": "figured-mission",
      "metadata": {
        "id": "figured-mission",
        "outputId": "48660071-b243-49b8-9cf4-f03c09bc2cd0",
        "colab": {
          "base_uri": "https://localhost:8080/"
        }
      },
      "outputs": [
        {
          "output_type": "stream",
          "name": "stdout",
          "text": [
            "A♠ A♥ A♦ A♣ K♠ K♥ K♦ K♣ Q♠ Q♥ Q♦ Q♣ J♠ J♥ J♦ J♣ ⑽♠ ⑽♥ ⑽♦ ⑽♣ 9♠ 9♥ 9♦ 9♣ 8♠ 8♥ 8♦ 8♣ 7♠ 7♥ 7♦ 7♣ 6♠ 6♥ 6♦ 6♣ 5♠ 5♥ 5♦ 5♣ 4♠ 4♥ 4♦ 4♣ 3♠ 3♥ 3♦ 3♣ 2♠ 2♥ 2♦ 2♣ "
          ]
        }
      ],
      "source": [
        "for rank in ranks:\n",
        "    for suit in suits:\n",
        "        print(rank+suit, end=' ') "
      ]
    },
    {
      "cell_type": "markdown",
      "id": "packed-python",
      "metadata": {
        "id": "packed-python"
      },
      "source": [
        "This set of pairs is the [Cartesian product](https://en.wikipedia.org/wiki/Cartesian_product) of the set of ranks and the set of suits.\n",
        "\n",
        "The following function encapsulates the loops and uses the `yield` statement to generate a stream of cards."
      ]
    },
    {
      "cell_type": "code",
      "execution_count": null,
      "id": "angry-reception",
      "metadata": {
        "id": "angry-reception"
      },
      "outputs": [],
      "source": [
        "def card_generator(ranks, suits):\n",
        "    for rank in ranks:\n",
        "        for suit in suits:\n",
        "            yield rank+suit"
      ]
    },
    {
      "cell_type": "markdown",
      "id": "resident-chrome",
      "metadata": {
        "id": "resident-chrome"
      },
      "source": [
        "Because this function includes a `yield` statement, it is a generator function. When we call it, the return value is a generator object."
      ]
    },
    {
      "cell_type": "code",
      "execution_count": null,
      "id": "unable-procedure",
      "metadata": {
        "id": "unable-procedure",
        "outputId": "781df218-6625-446c-e587-446869c86c50",
        "colab": {
          "base_uri": "https://localhost:8080/"
        }
      },
      "outputs": [
        {
          "output_type": "execute_result",
          "data": {
            "text/plain": [
              "<generator object card_generator at 0x7fe820790120>"
            ]
          },
          "metadata": {},
          "execution_count": 49
        }
      ],
      "source": [
        "it = card_generator(ranks, suits)\n",
        "it"
      ]
    },
    {
      "cell_type": "markdown",
      "id": "liable-ministry",
      "metadata": {
        "id": "liable-ministry"
      },
      "source": [
        "The generator object is iterable, so we can use `next` to get the first element of the stream."
      ]
    },
    {
      "cell_type": "code",
      "execution_count": null,
      "id": "unavailable-smell",
      "metadata": {
        "id": "unavailable-smell",
        "outputId": "97d485ae-2730-4961-efb9-9c1699cda566",
        "colab": {
          "base_uri": "https://localhost:8080/",
          "height": 36
        }
      },
      "outputs": [
        {
          "output_type": "execute_result",
          "data": {
            "text/plain": [
              "'A♠'"
            ],
            "application/vnd.google.colaboratory.intrinsic+json": {
              "type": "string"
            }
          },
          "metadata": {},
          "execution_count": 50
        }
      ],
      "source": [
        "next(it)"
      ]
    },
    {
      "cell_type": "markdown",
      "id": "dynamic-lexington",
      "metadata": {
        "id": "dynamic-lexington"
      },
      "source": [
        "The first time we call `next`, the function runs until it hits the `yield` statement.\n",
        "If we call `next` again, the function resumes from where it left off and runs until it hits the `yield` statement again. "
      ]
    },
    {
      "cell_type": "code",
      "execution_count": null,
      "id": "received-kidney",
      "metadata": {
        "id": "received-kidney",
        "outputId": "af730244-817f-46c6-8aef-4689c8b09913",
        "colab": {
          "base_uri": "https://localhost:8080/",
          "height": 36
        }
      },
      "outputs": [
        {
          "output_type": "execute_result",
          "data": {
            "text/plain": [
              "'A♥'"
            ],
            "application/vnd.google.colaboratory.intrinsic+json": {
              "type": "string"
            }
          },
          "metadata": {},
          "execution_count": 51
        }
      ],
      "source": [
        "next(it)"
      ]
    },
    {
      "cell_type": "markdown",
      "id": "actual-tradition",
      "metadata": {
        "id": "actual-tradition"
      },
      "source": [
        "Because `it` is iterable, we can use it in a for loop to enumerate the remaining pairs."
      ]
    },
    {
      "cell_type": "code",
      "execution_count": null,
      "id": "complimentary-coverage",
      "metadata": {
        "id": "complimentary-coverage",
        "outputId": "f8d84855-e0be-46ba-fc69-371ff3ed5fb3",
        "colab": {
          "base_uri": "https://localhost:8080/"
        }
      },
      "outputs": [
        {
          "output_type": "stream",
          "name": "stdout",
          "text": [
            "A♦ A♣ K♠ K♥ K♦ K♣ Q♠ Q♥ Q♦ Q♣ J♠ J♥ J♦ J♣ ⑽♠ ⑽♥ ⑽♦ ⑽♣ 9♠ 9♥ 9♦ 9♣ 8♠ 8♥ 8♦ 8♣ 7♠ 7♥ 7♦ 7♣ 6♠ 6♥ 6♦ 6♣ 5♠ 5♥ 5♦ 5♣ 4♠ 4♥ 4♦ 4♣ 3♠ 3♥ 3♦ 3♣ 2♠ 2♥ 2♦ 2♣ "
          ]
        }
      ],
      "source": [
        "for card in it:\n",
        "    print(card, end=' ')"
      ]
    },
    {
      "cell_type": "markdown",
      "id": "cosmetic-entrepreneur",
      "metadata": {
        "id": "cosmetic-entrepreneur"
      },
      "source": [
        "When the flow of control reaches the end of the function, the generator object raises and exception, which causes the for loop to end."
      ]
    },
    {
      "cell_type": "markdown",
      "id": "infectious-tension",
      "metadata": {
        "id": "infectious-tension"
      },
      "source": [
        "## itertools\n",
        "\n",
        "The `itertools` library provides function for working with iterators, including `product`, which is a generator function that takes iterators as arguments at yields their Cartesian product.\n",
        "We'll use `itertools.product` in the next few sections; then we'll see how to implement it.\n",
        "\n",
        "Here's a loop that uses `itertools.product` to generate the playing cards again."
      ]
    },
    {
      "cell_type": "code",
      "execution_count": null,
      "id": "surrounded-roads",
      "metadata": {
        "id": "surrounded-roads",
        "outputId": "af747f83-6414-4286-eee9-da6c5b1783dc",
        "colab": {
          "base_uri": "https://localhost:8080/",
          "height": 236
        }
      },
      "outputs": [
        {
          "output_type": "error",
          "ename": "NameError",
          "evalue": "ignored",
          "traceback": [
            "\u001b[0;31m---------------------------------------------------------------------------\u001b[0m",
            "\u001b[0;31mNameError\u001b[0m                                 Traceback (most recent call last)",
            "\u001b[0;32m<ipython-input-1-4c15810bddda>\u001b[0m in \u001b[0;36m<module>\u001b[0;34m\u001b[0m\n\u001b[1;32m      1\u001b[0m \u001b[0;32mfrom\u001b[0m \u001b[0mitertools\u001b[0m \u001b[0;32mimport\u001b[0m \u001b[0mproduct\u001b[0m\u001b[0;34m\u001b[0m\u001b[0;34m\u001b[0m\u001b[0m\n\u001b[1;32m      2\u001b[0m \u001b[0;34m\u001b[0m\u001b[0m\n\u001b[0;32m----> 3\u001b[0;31m \u001b[0;32mfor\u001b[0m \u001b[0mt\u001b[0m \u001b[0;32min\u001b[0m \u001b[0mproduct\u001b[0m\u001b[0;34m(\u001b[0m\u001b[0mranks\u001b[0m\u001b[0;34m,\u001b[0m \u001b[0msuits\u001b[0m\u001b[0;34m)\u001b[0m\u001b[0;34m:\u001b[0m\u001b[0;34m\u001b[0m\u001b[0;34m\u001b[0m\u001b[0m\n\u001b[0m\u001b[1;32m      4\u001b[0m     \u001b[0mcard\u001b[0m \u001b[0;34m=\u001b[0m \u001b[0;34m''\u001b[0m\u001b[0;34m.\u001b[0m\u001b[0mjoin\u001b[0m\u001b[0;34m(\u001b[0m\u001b[0mt\u001b[0m\u001b[0;34m)\u001b[0m\u001b[0;34m\u001b[0m\u001b[0;34m\u001b[0m\u001b[0m\n\u001b[1;32m      5\u001b[0m     \u001b[0mprint\u001b[0m\u001b[0;34m(\u001b[0m\u001b[0mcard\u001b[0m\u001b[0;34m,\u001b[0m \u001b[0mend\u001b[0m\u001b[0;34m=\u001b[0m\u001b[0;34m' '\u001b[0m\u001b[0;34m)\u001b[0m\u001b[0;34m\u001b[0m\u001b[0;34m\u001b[0m\u001b[0m\n",
            "\u001b[0;31mNameError\u001b[0m: name 'ranks' is not defined"
          ]
        }
      ],
      "source": [
        "from itertools import product\n",
        "\n",
        "for t in product(ranks, suits):\n",
        "    card = ''.join(t)\n",
        "    print(card, end=' ')        "
      ]
    },
    {
      "cell_type": "markdown",
      "id": "competent-annex",
      "metadata": {
        "id": "competent-annex"
      },
      "source": [
        "**Exercise:** Encapsulate the previous loop in a generator function called `card_generator2` that yields the playing  cards. Then call your function and use it to print the cards."
      ]
    },
    {
      "cell_type": "code",
      "execution_count": null,
      "id": "global-lesbian",
      "metadata": {
        "id": "global-lesbian"
      },
      "outputs": [],
      "source": []
    },
    {
      "cell_type": "code",
      "execution_count": null,
      "id": "included-enclosure",
      "metadata": {
        "id": "included-enclosure"
      },
      "outputs": [],
      "source": []
    },
    {
      "cell_type": "markdown",
      "id": "stunning-islam",
      "metadata": {
        "id": "stunning-islam"
      },
      "source": [
        "## Enumerating all pairs\n",
        "\n",
        "Now that we have playing cards, let's deal a few hands. In fact, let's deal all the hands.\n",
        "\n",
        "First, I'll create two card generators."
      ]
    },
    {
      "cell_type": "code",
      "execution_count": null,
      "id": "caroline-aberdeen",
      "metadata": {
        "id": "caroline-aberdeen"
      },
      "outputs": [],
      "source": [
        "it1 = card_generator(ranks, suits)\n",
        "it2 = card_generator(ranks, suits)"
      ]
    },
    {
      "cell_type": "markdown",
      "id": "connected-revolution",
      "metadata": {
        "id": "connected-revolution"
      },
      "source": [
        "Now we can use `product` to generate all pairs of cards."
      ]
    },
    {
      "cell_type": "code",
      "execution_count": null,
      "id": "billion-rebel",
      "metadata": {
        "id": "billion-rebel"
      },
      "outputs": [],
      "source": [
        "for hand in product(it1, it2):\n",
        "    print(hand)"
      ]
    },
    {
      "cell_type": "markdown",
      "id": "certain-studio",
      "metadata": {
        "id": "certain-studio"
      },
      "source": [
        "To check whether it's working correctly, it will be useful to count the number of elements in an iterator, which is what `ilen` does.\n",
        "This idiom is discussed [on Stack Overflow](https://stackoverflow.com/questions/390852/is-there-any-built-in-way-to-get-the-length-of-an-iterable-in-python)."
      ]
    },
    {
      "cell_type": "code",
      "execution_count": null,
      "id": "apart-courtesy",
      "metadata": {
        "id": "apart-courtesy"
      },
      "outputs": [],
      "source": [
        "def ilen(it):\n",
        "    return sum(1 for _ in it)"
      ]
    },
    {
      "cell_type": "markdown",
      "id": "moderate-plate",
      "metadata": {
        "id": "moderate-plate"
      },
      "source": [
        "Now we can use it to count the pairs of cards."
      ]
    },
    {
      "cell_type": "code",
      "execution_count": null,
      "id": "destroyed-differential",
      "metadata": {
        "id": "destroyed-differential",
        "outputId": "b48521bf-7cb5-41f0-9955-b01e5092b149",
        "colab": {
          "base_uri": "https://localhost:8080/"
        }
      },
      "outputs": [
        {
          "output_type": "execute_result",
          "data": {
            "text/plain": [
              "2704"
            ]
          },
          "metadata": {},
          "execution_count": 61
        }
      ],
      "source": [
        "it1 = card_generator(ranks, suits)\n",
        "it2 = card_generator(ranks, suits)\n",
        "ilen(product(it1, it2))"
      ]
    },
    {
      "cell_type": "markdown",
      "id": "split-guinea",
      "metadata": {
        "id": "split-guinea"
      },
      "source": [
        "If things have gone according to plan, the number of pairs should be $52^2$."
      ]
    },
    {
      "cell_type": "code",
      "execution_count": null,
      "id": "alternate-cooking",
      "metadata": {
        "id": "alternate-cooking",
        "outputId": "f36651ac-2be0-44c5-eff5-37213d91bd65",
        "colab": {
          "base_uri": "https://localhost:8080/"
        }
      },
      "outputs": [
        {
          "output_type": "execute_result",
          "data": {
            "text/plain": [
              "2704"
            ]
          },
          "metadata": {},
          "execution_count": 58
        }
      ],
      "source": [
        "52**2"
      ]
    },
    {
      "cell_type": "markdown",
      "id": "later-forth",
      "metadata": {
        "id": "later-forth"
      },
      "source": [
        "Notice that we have to create new card iterators every time, because once they are used up, they behave like an empty list.\n",
        "Here's what happens if we try to use them again."
      ]
    },
    {
      "cell_type": "code",
      "execution_count": null,
      "id": "general-nickname",
      "metadata": {
        "id": "general-nickname",
        "outputId": "2edab924-b27e-4be2-85fa-bac8500dbbb8",
        "colab": {
          "base_uri": "https://localhost:8080/"
        }
      },
      "outputs": [
        {
          "output_type": "execute_result",
          "data": {
            "text/plain": [
              "0"
            ]
          },
          "metadata": {},
          "execution_count": 59
        }
      ],
      "source": [
        "ilen(product(it1, it2))"
      ]
    },
    {
      "cell_type": "markdown",
      "id": "shaped-cyprus",
      "metadata": {
        "id": "shaped-cyprus"
      },
      "source": [
        "That's also why we had to create two card iterators.\n",
        "If you create one and try to use it twice, it doesn't work."
      ]
    },
    {
      "cell_type": "code",
      "execution_count": null,
      "id": "enhanced-estonia",
      "metadata": {
        "id": "enhanced-estonia",
        "outputId": "f87e58bb-54d9-46af-b9ed-8fd116fdd97f",
        "colab": {
          "base_uri": "https://localhost:8080/"
        }
      },
      "outputs": [
        {
          "output_type": "execute_result",
          "data": {
            "text/plain": [
              "0"
            ]
          },
          "metadata": {},
          "execution_count": 60
        }
      ],
      "source": [
        "it = card_generator(ranks, suits)\n",
        "ilen(product(it, it))"
      ]
    },
    {
      "cell_type": "markdown",
      "id": "blocked-softball",
      "metadata": {
        "id": "blocked-softball"
      },
      "source": [
        "However, you can get around this limitation by calling `product` with the `repeat` argument, which makes it possible to use a single iterator to generate a Cartesian product."
      ]
    },
    {
      "cell_type": "code",
      "execution_count": null,
      "id": "demographic-kelly",
      "metadata": {
        "id": "demographic-kelly",
        "outputId": "c2afacc1-3dfc-423e-bd37-9dcd1ee2fb32",
        "colab": {
          "base_uri": "https://localhost:8080/"
        }
      },
      "outputs": [
        {
          "output_type": "execute_result",
          "data": {
            "text/plain": [
              "2704"
            ]
          },
          "metadata": {},
          "execution_count": 61
        }
      ],
      "source": [
        "it = card_generator(ranks, suits)\n",
        "ilen(product(it, repeat=2))"
      ]
    },
    {
      "cell_type": "markdown",
      "id": "failing-biotechnology",
      "metadata": {
        "id": "failing-biotechnology"
      },
      "source": [
        "## Permutations\n",
        "\n",
        "In the previous section, you might have noticed that some of the hands we generated are impossible because they contain the same card more than once.\n",
        "\n",
        "One way to solve this problem is to generate all pairs and then eliminate the ones that contain duplicates."
      ]
    },
    {
      "cell_type": "code",
      "execution_count": null,
      "id": "racial-breach",
      "metadata": {
        "id": "racial-breach"
      },
      "outputs": [],
      "source": [
        "it = card_generator(ranks, suits)\n",
        "\n",
        "for hand in product(it, repeat=2):\n",
        "    if len(hand) == len(set(hand)):\n",
        "        print(hand)"
      ]
    },
    {
      "cell_type": "markdown",
      "id": "planned-sentence",
      "metadata": {
        "id": "planned-sentence"
      },
      "source": [
        "**Exercise:** Write a generator function called `permutations` that takes an iterator and and integer, `r`, as arguments. It should generate tuples that represent all subsets of the elements in the iterator with size `r` and no duplicates.\n",
        "\n",
        "Test your function by generating and printing all hands with two distinct cards.\n",
        "Then use `ilen` to count how many there are, and confirm that it's `52 * 51`."
      ]
    },
    {
      "cell_type": "code",
      "source": [
        "from itertools import product\n",
        "\n",
        "def card_gen(rnks, sts):\n",
        "  for pair in product(sts, str(rnks)):\n",
        "    card = ''.join(pair)\n",
        "    yield card"
      ],
      "metadata": {
        "id": "wGkpHMtiu8gB"
      },
      "id": "wGkpHMtiu8gB",
      "execution_count": null,
      "outputs": []
    },
    {
      "cell_type": "code",
      "source": [
        "itr1 = card_gen(ranks, suits)"
      ],
      "metadata": {
        "id": "u9Xorfr-waMJ"
      },
      "id": "u9Xorfr-waMJ",
      "execution_count": null,
      "outputs": []
    },
    {
      "cell_type": "code",
      "execution_count": null,
      "id": "organizational-public",
      "metadata": {
        "id": "organizational-public",
        "outputId": "54ef882b-3db3-4363-efde-747a28ffec83",
        "colab": {
          "base_uri": "https://localhost:8080/",
          "height": 36
        }
      },
      "outputs": [
        {
          "output_type": "execute_result",
          "data": {
            "text/plain": [
              "'\\ncounter = 0\\nfor x in res2:\\n  if counter % 50 == 0:\\n    print(x)\\n  counter += 1\\n  '"
            ],
            "application/vnd.google.colaboratory.intrinsic+json": {
              "type": "string"
            }
          },
          "metadata": {},
          "execution_count": 65
        }
      ],
      "source": [
        "\n",
        "\n",
        "def permutations( itr, r):\n",
        "  \n",
        "  res1 = list(product(itr, repeat=r))\n",
        "  \n",
        "  to_remove = {}\n",
        "  for tup in res1:\n",
        "    for x in tup:\n",
        "      x_index = tup.index(x)\n",
        "      if x in tup[x_index+1: ] and tup not in to_remove:\n",
        "        to_remove[tup] = res1.index(tup) \n",
        "    \n",
        "  for x in res1[::-1]:\n",
        "    if x in to_remove:\n",
        "      res1.pop(to_remove[x])\n",
        "  \n",
        "  return res1\n",
        "\n",
        "\n",
        "res2 = permutations( it1, 2)\n",
        "\"\"\"\n",
        "counter = 0\n",
        "for x in res2:\n",
        "  if counter % 50 == 0:\n",
        "    print(x)\n",
        "  counter += 1\n",
        "  \"\"\"\n",
        "\n"
      ]
    },
    {
      "cell_type": "code",
      "source": [
        "len(res2)"
      ],
      "metadata": {
        "colab": {
          "base_uri": "https://localhost:8080/"
        },
        "id": "J9YhPfHD83mX",
        "outputId": "0746c374-907b-471f-a708-4222c5ecbdba"
      },
      "id": "J9YhPfHD83mX",
      "execution_count": null,
      "outputs": [
        {
          "output_type": "execute_result",
          "data": {
            "text/plain": [
              "2652"
            ]
          },
          "metadata": {},
          "execution_count": 66
        }
      ]
    },
    {
      "cell_type": "code",
      "source": [
        "combo1_lst = combinations(res2)\n",
        "print(len( combo1_lst))"
      ],
      "metadata": {
        "colab": {
          "base_uri": "https://localhost:8080/"
        },
        "id": "_-9MUT5m-cyb",
        "outputId": "8a4301aa-94bc-43f0-8b41-a612ebe9f593"
      },
      "id": "_-9MUT5m-cyb",
      "execution_count": null,
      "outputs": [
        {
          "output_type": "stream",
          "name": "stdout",
          "text": [
            "1326\n"
          ]
        }
      ]
    },
    {
      "cell_type": "code",
      "source": [
        "ilen = sum(1 for x in res2)\n",
        "print(ilen)"
      ],
      "metadata": {
        "colab": {
          "base_uri": "https://localhost:8080/"
        },
        "id": "XOx6oA5oxo-Q",
        "outputId": "1b7c4f3f-94cf-4ad7-d0b8-47a91f2dbfde"
      },
      "id": "XOx6oA5oxo-Q",
      "execution_count": null,
      "outputs": [
        {
          "output_type": "stream",
          "name": "stdout",
          "text": [
            "2652\n"
          ]
        }
      ]
    },
    {
      "cell_type": "markdown",
      "id": "close-diabetes",
      "metadata": {
        "id": "close-diabetes"
      },
      "source": [
        "The `itertools` library provides a function called `permutations` that does the same thing."
      ]
    },
    {
      "cell_type": "code",
      "execution_count": null,
      "id": "packed-galaxy",
      "metadata": {
        "id": "packed-galaxy",
        "colab": {
          "base_uri": "https://localhost:8080/"
        },
        "outputId": "bb063411-d12f-4118-be78-36884c9b3cbd"
      },
      "outputs": [
        {
          "output_type": "execute_result",
          "data": {
            "text/plain": [
              "2652"
            ]
          },
          "metadata": {},
          "execution_count": 25
        }
      ],
      "source": [
        "import itertools\n",
        "\n",
        "it = card_generator(ranks, suits)\n",
        "ilen(itertools.permutations(it, 2))"
      ]
    },
    {
      "cell_type": "markdown",
      "id": "maritime-dream",
      "metadata": {
        "id": "maritime-dream"
      },
      "source": [
        "## Combinations\n",
        "\n",
        "At this point we are generating legitimate hands in the sense that the same card never appears twice.\n",
        "But we end up generating the same hand more than once, in the sense that the order of the cards does not matter.\n",
        "So we consider `(card1, card2)` to be the same hand as `(card2, card1)`.\n",
        "To avoid that, we can generate all permutations and then filter out the ones that are not in sorted order.\n",
        "\n",
        "It doesn't really matter which order is considered \"sorted\"; it's just a way to choose one ordering we consider \"canonical\".\n",
        "\n",
        "That's what the following loop does."
      ]
    },
    {
      "cell_type": "code",
      "execution_count": null,
      "id": "alert-designer",
      "metadata": {
        "id": "alert-designer"
      },
      "outputs": [],
      "source": [
        "it = card_generator(ranks, suits)\n",
        "\n",
        "for hand in permutations(it, r=2):\n",
        "    if list(hand) == sorted(hand):\n",
        "        print(hand)"
      ]
    },
    {
      "cell_type": "markdown",
      "id": "armed-intent",
      "metadata": {
        "id": "armed-intent"
      },
      "source": [
        "**Exercise:** Write a generator function called `combinations` that takes an iterator and and integer, `r`, as arguments. It should generate tuples that represent all *sorted* subsets of the elements in the iterator with size `r` and no duplicates.\n",
        "\n",
        "Test your function by generating and printing all hands with two distinct cards.\n",
        "Then use `ilen` to count how many there are, and confirm that it's `52 * 51 / 2`."
      ]
    },
    {
      "cell_type": "code",
      "source": [
        "\n",
        "from itertools import product, combinations\n",
        "\n",
        "def ccombinations(itr, r):\n",
        "  itr_prod_lst = list(product(itr, repeat=r))\n",
        "  #print(f\" original list = {itr_prod_lst}\")\n",
        "  indices_to_pop = []\n",
        "\n",
        "  for i in range(len(itr_prod_lst)):\n",
        "\n",
        "    if all( itr_prod_lst[i][0] == y for y in itr_prod_lst[i][1: ]):\n",
        "      indices_to_pop.append(i)\n",
        "                \n",
        "    else:\n",
        "      for y in itr_prod_lst[i+1: ]:\n",
        "        if sorted(itr_prod_lst[i]) == sorted(y):\n",
        "          indices_to_pop.append(i)\n",
        "    # Two sorted there because the ambition \n",
        "    # was to make it for more\n",
        "\n",
        "  sorted_indices = sorted(indices_to_pop)        \n",
        "  for indx in sorted_indices[::-1]:\n",
        "    itr_prod_lst.pop(indx)\n",
        "  return itr_prod_lst\n",
        "\n"
      ],
      "metadata": {
        "id": "qzqdXsOk4bsV"
      },
      "id": "qzqdXsOk4bsV",
      "execution_count": null,
      "outputs": []
    },
    {
      "cell_type": "code",
      "execution_count": null,
      "id": "southwest-anthropology",
      "metadata": {
        "id": "southwest-anthropology",
        "colab": {
          "base_uri": "https://localhost:8080/"
        },
        "outputId": "b872168a-8b7c-4d47-aa9b-4da22cc894ea"
      },
      "outputs": [
        {
          "output_type": "stream",
          "name": "stdout",
          "text": [
            "True\n",
            "True\n",
            "True\n",
            "True\n",
            "True\n"
          ]
        }
      ],
      "source": [
        "test1 = ['a', 'b', 'c']\n",
        "\n",
        "for n in range(2, 7):\n",
        "  lst = [ x for x in range(n) ]\n",
        "  print( len( list(combinations(lst, 2)) ) == len( list(ccombinations(lst, 2)) ))"
      ]
    },
    {
      "cell_type": "code",
      "execution_count": null,
      "id": "massive-genome",
      "metadata": {
        "id": "massive-genome"
      },
      "outputs": [],
      "source": [
        "def ilen2( v):\n",
        "  res = sum(1 for x in v)\n",
        "  return res"
      ]
    },
    {
      "cell_type": "markdown",
      "id": "decimal-shopping",
      "metadata": {
        "id": "decimal-shopping"
      },
      "source": [
        "The `itertools` library provides a function called `combinations` that does the same thing."
      ]
    },
    {
      "cell_type": "code",
      "execution_count": null,
      "id": "charged-referral",
      "metadata": {
        "id": "charged-referral",
        "colab": {
          "base_uri": "https://localhost:8080/",
          "height": 223
        },
        "outputId": "109e6e3f-dd7f-4836-84f2-41207052ae76"
      },
      "outputs": [
        {
          "output_type": "error",
          "ename": "NameError",
          "evalue": "ignored",
          "traceback": [
            "\u001b[0;31m---------------------------------------------------------------------------\u001b[0m",
            "\u001b[0;31mNameError\u001b[0m                                 Traceback (most recent call last)",
            "\u001b[0;32m<ipython-input-2-ff56e9ecc7a5>\u001b[0m in \u001b[0;36m<module>\u001b[0;34m\u001b[0m\n\u001b[1;32m      1\u001b[0m \u001b[0;32mimport\u001b[0m \u001b[0mitertools\u001b[0m\u001b[0;34m\u001b[0m\u001b[0;34m\u001b[0m\u001b[0m\n\u001b[1;32m      2\u001b[0m \u001b[0;34m\u001b[0m\u001b[0m\n\u001b[0;32m----> 3\u001b[0;31m \u001b[0mit\u001b[0m \u001b[0;34m=\u001b[0m \u001b[0mcard_generator\u001b[0m\u001b[0;34m(\u001b[0m\u001b[0mranks\u001b[0m\u001b[0;34m,\u001b[0m \u001b[0msuits\u001b[0m\u001b[0;34m)\u001b[0m\u001b[0;34m\u001b[0m\u001b[0;34m\u001b[0m\u001b[0m\n\u001b[0m\u001b[1;32m      4\u001b[0m \u001b[0milen\u001b[0m\u001b[0;34m(\u001b[0m\u001b[0mitertools\u001b[0m\u001b[0;34m.\u001b[0m\u001b[0mcombinations\u001b[0m\u001b[0;34m(\u001b[0m\u001b[0mit\u001b[0m\u001b[0;34m,\u001b[0m \u001b[0;36m2\u001b[0m\u001b[0;34m)\u001b[0m\u001b[0;34m)\u001b[0m\u001b[0;34m\u001b[0m\u001b[0;34m\u001b[0m\u001b[0m\n",
            "\u001b[0;31mNameError\u001b[0m: name 'card_generator' is not defined"
          ]
        }
      ],
      "source": [
        "import itertools\n",
        "\n",
        "it = card_generator(ranks, suits)\n",
        "ilen(itertools.combinations(it, 2))"
      ]
    },
    {
      "cell_type": "markdown",
      "id": "exact-lawsuit",
      "metadata": {
        "id": "exact-lawsuit"
      },
      "source": [
        "## Generating hands\n",
        "\n",
        "We can use `combinations ` to write a generator that yields all valid hands with `n` playing cards, where \"valid\" means that the cards are in sorted order with no duplicates."
      ]
    },
    {
      "cell_type": "code",
      "source": [
        "from itertools import product\n",
        "\n",
        "def card_gen(rnks, sts):\n",
        "  for pair in product( ranks, suits):\n",
        "    card = ''.join(pair)\n",
        "    yield card"
      ],
      "metadata": {
        "id": "gxZx6HKlVQll"
      },
      "id": "gxZx6HKlVQll",
      "execution_count": null,
      "outputs": []
    },
    {
      "cell_type": "code",
      "source": [
        "itr = card_gen(ranks, suits)\n",
        "ilen2(itr)"
      ],
      "metadata": {
        "colab": {
          "base_uri": "https://localhost:8080/"
        },
        "id": "tvhwGzAlXmwD",
        "outputId": "f30a5dbb-55ca-4467-8e67-cc3d02e35a98"
      },
      "id": "tvhwGzAlXmwD",
      "execution_count": null,
      "outputs": [
        {
          "output_type": "execute_result",
          "data": {
            "text/plain": [
              "52"
            ]
          },
          "metadata": {},
          "execution_count": 5
        }
      ]
    },
    {
      "cell_type": "code",
      "execution_count": null,
      "id": "verified-kennedy",
      "metadata": {
        "id": "verified-kennedy"
      },
      "outputs": [],
      "source": [
        "from itertools import combinations\n",
        "\n",
        "def hand_generator(n=2):\n",
        "    it = card_gen(ranks, suits)\n",
        "    for hand in combinations(it, n):\n",
        "        yield hand"
      ]
    },
    {
      "cell_type": "code",
      "source": [
        "res = list(hand_generator())\n",
        "res[10]"
      ],
      "metadata": {
        "colab": {
          "base_uri": "https://localhost:8080/"
        },
        "id": "c1HBzVgXzYB3",
        "outputId": "5e0ca608-d288-4902-d032-55e5a1661c15"
      },
      "id": "c1HBzVgXzYB3",
      "execution_count": null,
      "outputs": [
        {
          "output_type": "execute_result",
          "data": {
            "text/plain": [
              "('A♠', 'Q♣')"
            ]
          },
          "metadata": {},
          "execution_count": 8
        }
      ]
    },
    {
      "cell_type": "code",
      "execution_count": null,
      "id": "established-cornell",
      "metadata": {
        "id": "established-cornell",
        "colab": {
          "base_uri": "https://localhost:8080/"
        },
        "outputId": "4a36182a-f858-4639-c214-60e4ab144d8f"
      },
      "outputs": [
        {
          "output_type": "execute_result",
          "data": {
            "text/plain": [
              "1326"
            ]
          },
          "metadata": {},
          "execution_count": 31
        }
      ],
      "source": [
        "ilen2(hand_generator())"
      ]
    },
    {
      "cell_type": "markdown",
      "id": "capital-warner",
      "metadata": {
        "id": "capital-warner"
      },
      "source": [
        "If you ever find yourself looping through an iterator and yielding all of the elements, you can simplify the code using `yield from`."
      ]
    },
    {
      "cell_type": "code",
      "execution_count": null,
      "id": "capable-brain",
      "metadata": {
        "id": "capable-brain"
      },
      "outputs": [],
      "source": [
        "def hand_generator(n=2):\n",
        "    it = card_gen(ranks, suits)\n",
        "    yield from combinations(it, n)"
      ]
    },
    {
      "cell_type": "code",
      "execution_count": null,
      "id": "christian-cutting",
      "metadata": {
        "id": "christian-cutting",
        "colab": {
          "base_uri": "https://localhost:8080/"
        },
        "outputId": "36dc043c-85ac-4dda-b891-2057cec6b249"
      },
      "outputs": [
        {
          "output_type": "execute_result",
          "data": {
            "text/plain": [
              "1326"
            ]
          },
          "metadata": {},
          "execution_count": 39
        }
      ],
      "source": [
        "ilen2(hand_generator(2))"
      ]
    },
    {
      "cell_type": "code",
      "source": [],
      "metadata": {
        "id": "XLSLDO-LAjJC"
      },
      "id": "XLSLDO-LAjJC",
      "execution_count": null,
      "outputs": []
    },
    {
      "cell_type": "code",
      "execution_count": null,
      "metadata": {
        "id": "jEGl6p2UAmtJ"
      },
      "outputs": [],
      "source": [
        "def ilen(it):\n",
        "    return sum(1 for _ in it)"
      ],
      "id": "jEGl6p2UAmtJ"
    },
    {
      "cell_type": "code",
      "source": [
        "ilen(hand_generator(5))"
      ],
      "metadata": {
        "colab": {
          "base_uri": "https://localhost:8080/"
        },
        "id": "3fMDjVB0ApQ5",
        "outputId": "6eac7e81-c093-4257-b17c-182450d9e2cc"
      },
      "id": "3fMDjVB0ApQ5",
      "execution_count": null,
      "outputs": [
        {
          "output_type": "execute_result",
          "data": {
            "text/plain": [
              "2598960"
            ]
          },
          "metadata": {},
          "execution_count": 48
        }
      ]
    },
    {
      "cell_type": "markdown",
      "id": "sealed-reason",
      "metadata": {
        "id": "sealed-reason"
      },
      "source": [
        "Now let's see how many hands there are with 3, 4, and (maybe) 5 cards."
      ]
    },
    {
      "cell_type": "code",
      "execution_count": null,
      "id": "lesser-reggae",
      "metadata": {
        "id": "lesser-reggae",
        "colab": {
          "base_uri": "https://localhost:8080/"
        },
        "outputId": "86b84957-c603-4a29-f8d7-d9d440ea6b61"
      },
      "outputs": [
        {
          "output_type": "execute_result",
          "data": {
            "text/plain": [
              "22100"
            ]
          },
          "metadata": {},
          "execution_count": 40
        }
      ],
      "source": [
        "ilen2(hand_generator(3))"
      ]
    },
    {
      "cell_type": "code",
      "execution_count": null,
      "id": "delayed-proceeding",
      "metadata": {
        "id": "delayed-proceeding",
        "colab": {
          "base_uri": "https://localhost:8080/"
        },
        "outputId": "9d7cebd2-05a6-42b5-dfda-8a30d89b451e"
      },
      "outputs": [
        {
          "output_type": "execute_result",
          "data": {
            "text/plain": [
              "270725"
            ]
          },
          "metadata": {},
          "execution_count": 41
        }
      ],
      "source": [
        "ilen2(hand_generator(4))"
      ]
    },
    {
      "cell_type": "markdown",
      "id": "devoted-subcommittee",
      "metadata": {
        "id": "devoted-subcommittee"
      },
      "source": [
        "I'm not patient enough to let this one finish."
      ]
    },
    {
      "cell_type": "code",
      "execution_count": null,
      "id": "acceptable-spouse",
      "metadata": {
        "id": "acceptable-spouse"
      },
      "outputs": [],
      "source": [
        "#ilen2(hand_generator(5))"
      ]
    },
    {
      "cell_type": "markdown",
      "id": "amended-hundred",
      "metadata": {
        "id": "amended-hundred"
      },
      "source": [
        "But if we only care about the number of combinations, we can use [`math.comb`](https://docs.python.org/3/library/math.html)."
      ]
    },
    {
      "cell_type": "code",
      "execution_count": null,
      "id": "sensitive-while",
      "metadata": {
        "id": "sensitive-while",
        "colab": {
          "base_uri": "https://localhost:8080/"
        },
        "outputId": "4e9dc0f9-3b88-4fc5-d37f-7705991e9ce7"
      },
      "outputs": [
        {
          "output_type": "execute_result",
          "data": {
            "text/plain": [
              "2598960"
            ]
          },
          "metadata": {},
          "execution_count": 44
        }
      ],
      "source": [
        "from math import comb\n",
        "\n",
        "comb(52, 5)"
      ]
    },
    {
      "cell_type": "markdown",
      "id": "valued-laundry",
      "metadata": {
        "id": "valued-laundry"
      },
      "source": [
        "## How many flushes?\n",
        "\n",
        "In poker, a \"flush\" is a hand where all cards have the same suit.\n",
        "To check whether a hand is a flush, it is convenient to extract the suit part of the cards and make a set."
      ]
    },
    {
      "cell_type": "code",
      "execution_count": null,
      "id": "sought-frost",
      "metadata": {
        "id": "sought-frost",
        "colab": {
          "base_uri": "https://localhost:8080/"
        },
        "outputId": "374f8a39-5488-48b4-e514-69a3435edfa6"
      },
      "outputs": [
        {
          "output_type": "execute_result",
          "data": {
            "text/plain": [
              "('A♠', 'A♥', 'A♦', 'A♣')"
            ]
          },
          "metadata": {},
          "execution_count": 12
        }
      ],
      "source": [
        "it = hand_generator(4)\n",
        "hand = next(it)\n",
        "hand"
      ]
    },
    {
      "cell_type": "code",
      "source": [
        "type(hand)"
      ],
      "metadata": {
        "colab": {
          "base_uri": "https://localhost:8080/"
        },
        "id": "_clgC7dFZGZ4",
        "outputId": "c5190aa4-3cc6-454a-d2f6-faf84b09cb16"
      },
      "id": "_clgC7dFZGZ4",
      "execution_count": null,
      "outputs": [
        {
          "output_type": "execute_result",
          "data": {
            "text/plain": [
              "tuple"
            ]
          },
          "metadata": {},
          "execution_count": 110
        }
      ]
    },
    {
      "cell_type": "code",
      "source": [
        "it_lst = list(it)\n",
        "\n"
      ],
      "metadata": {
        "id": "0nw2U6xkF3HH"
      },
      "id": "0nw2U6xkF3HH",
      "execution_count": null,
      "outputs": []
    },
    {
      "cell_type": "code",
      "source": [
        "#for x in it_lst[0]:  \n",
        "#  print(x[1])\n",
        "it_lst[0]"
      ],
      "metadata": {
        "colab": {
          "base_uri": "https://localhost:8080/"
        },
        "id": "55chW7y_VtLJ",
        "outputId": "d0c10164-060e-48f3-e08c-b38288d402f8"
      },
      "id": "55chW7y_VtLJ",
      "execution_count": null,
      "outputs": [
        {
          "output_type": "execute_result",
          "data": {
            "text/plain": [
              "('A♠', 'A♥', 'A♦', 'K♠')"
            ]
          },
          "metadata": {},
          "execution_count": 16
        }
      ]
    },
    {
      "cell_type": "code",
      "source": [
        "suit = it_lst[0][1][1]   # first index = hand, second = card, third = suit\n",
        "#if all(card[1] == suit for card in hand):\n",
        "#  return True\n",
        "suit"
      ],
      "metadata": {
        "colab": {
          "base_uri": "https://localhost:8080/",
          "height": 36
        },
        "id": "4Rj9CsdyU1Mj",
        "outputId": "787c8c45-bbd5-4d8d-9138-02069b957e51"
      },
      "id": "4Rj9CsdyU1Mj",
      "execution_count": null,
      "outputs": [
        {
          "output_type": "execute_result",
          "data": {
            "text/plain": [
              "'♥'"
            ],
            "application/vnd.google.colaboratory.intrinsic+json": {
              "type": "string"
            }
          },
          "metadata": {},
          "execution_count": 17
        }
      ]
    },
    {
      "cell_type": "code",
      "execution_count": null,
      "metadata": {
        "id": "higher-milwaukee"
      },
      "outputs": [],
      "source": [
        "suits_st = set(card[1] for card in hand)"
      ],
      "id": "higher-milwaukee"
    },
    {
      "cell_type": "code",
      "source": [
        "for x in range(7):\n",
        "  print(it_lst[x])"
      ],
      "metadata": {
        "id": "1nm-7QRVF3L0"
      },
      "id": "1nm-7QRVF3L0",
      "execution_count": null,
      "outputs": []
    },
    {
      "cell_type": "markdown",
      "id": "fossil-subscriber",
      "metadata": {
        "id": "fossil-subscriber"
      },
      "source": [
        "**Exercise:** Write a function called `is_flush` that takes a hand as an argument and returns `True` if all cards are the same suit.\n",
        "\n",
        "Then write a generator function called `flush_generator` that takes an integer `n` and return all hands with `n` cards that are flushes.\n",
        "\n",
        "What fraction of hands with 3, 4, and 5 cards are flushes?"
      ]
    },
    {
      "cell_type": "code",
      "execution_count": null,
      "id": "sweet-olive",
      "metadata": {
        "id": "sweet-olive"
      },
      "outputs": [],
      "source": [
        "def is_flush(handy):\n",
        "  suit = handy[1][1]\n",
        "  if all(card[1] == suit for card in handy):\n",
        "    return True\n",
        "  \n",
        "  "
      ]
    },
    {
      "cell_type": "code",
      "execution_count": null,
      "id": "documented-network",
      "metadata": {
        "id": "documented-network",
        "colab": {
          "base_uri": "https://localhost:8080/"
        },
        "outputId": "acaf1a32-a201-4930-a90a-56ab0345ebd4"
      },
      "outputs": [
        {
          "output_type": "execute_result",
          "data": {
            "text/plain": [
              "True"
            ]
          },
          "metadata": {},
          "execution_count": 21
        }
      ],
      "source": [
        "is_flush(hand2)"
      ]
    },
    {
      "cell_type": "code",
      "execution_count": null,
      "id": "distinct-birthday",
      "metadata": {
        "id": "distinct-birthday",
        "colab": {
          "base_uri": "https://localhost:8080/"
        },
        "outputId": "814c1c40-6b29-4b30-f5ce-3cd82e3ad512"
      },
      "outputs": [
        {
          "output_type": "execute_result",
          "data": {
            "text/plain": [
              "('A♥', 'K♥', 'Q♥', '5♥')"
            ]
          },
          "metadata": {},
          "execution_count": 20
        }
      ],
      "source": [
        "hand2 = ('A'+suit, 'K'+suit, 'Q'+suit, str(5)+suit)\n",
        "hand2"
      ]
    },
    {
      "cell_type": "code",
      "source": [
        "from itertools import product\n",
        "\n",
        "def hand_gen2(n):\n",
        "  cards = card_gen(ranks, suits)  # the deck\n",
        "  for hand in product(cards, repeat=n):\n",
        "    yield hand\n"
      ],
      "metadata": {
        "id": "mvr4Ti0O9lEk"
      },
      "id": "mvr4Ti0O9lEk",
      "execution_count": null,
      "outputs": []
    },
    {
      "cell_type": "code",
      "source": [
        "hands = hand_gen2(2)   # len = 2704"
      ],
      "metadata": {
        "id": "u5FGRNWMAROE"
      },
      "id": "u5FGRNWMAROE",
      "execution_count": null,
      "outputs": []
    },
    {
      "cell_type": "code",
      "source": [
        "count = 0\n",
        "for hand in hand_gen2(2):\n",
        "  if is_flush(hand):\n",
        "    count += 1"
      ],
      "metadata": {
        "id": "-5WfT1GlDCTv"
      },
      "id": "-5WfT1GlDCTv",
      "execution_count": null,
      "outputs": []
    },
    {
      "cell_type": "code",
      "source": [
        "count/2704"
      ],
      "metadata": {
        "colab": {
          "base_uri": "https://localhost:8080/"
        },
        "id": "RZVUocasAYcN",
        "outputId": "fbda6cdd-64d8-467f-9953-c0e0fdcd0ac7"
      },
      "id": "RZVUocasAYcN",
      "execution_count": null,
      "outputs": [
        {
          "output_type": "execute_result",
          "data": {
            "text/plain": [
              "0.25"
            ]
          },
          "metadata": {},
          "execution_count": 55
        }
      ]
    },
    {
      "cell_type": "code",
      "execution_count": null,
      "id": "computational-storage",
      "metadata": {
        "id": "computational-storage"
      },
      "outputs": [],
      "source": [
        "def flush_generator(n):\n",
        "  \n",
        "  for hand in hand_gen2(n):\n",
        "    if is_flush(hand):\n",
        "      yield hand\n"
      ]
    },
    {
      "cell_type": "code",
      "execution_count": null,
      "id": "earlier-damages",
      "metadata": {
        "id": "earlier-damages"
      },
      "outputs": [],
      "source": [
        "res_2 = list(flush_generator(2))    # = 676 flushes, fraction = .25"
      ]
    },
    {
      "cell_type": "code",
      "source": [
        "res3 = flush_generator(3)   # = 8788 fkushes, total = 140608, frction 0.0625"
      ],
      "metadata": {
        "id": "cA6bs76QFZcj"
      },
      "id": "cA6bs76QFZcj",
      "execution_count": null,
      "outputs": []
    },
    {
      "cell_type": "code",
      "execution_count": null,
      "id": "celtic-wisconsin",
      "metadata": {
        "id": "celtic-wisconsin"
      },
      "outputs": [],
      "source": [
        "res_4 = sum(1 for x in flush_generator(4))  # = 114244, total = 7311616, fraction = 0.015625"
      ]
    },
    {
      "cell_type": "code",
      "source": [
        "res_5 = sum( 1 for x in flush_generator(5))   # stopped at the minute"
      ],
      "metadata": {
        "id": "TwxSZ9qLH0aG"
      },
      "id": "TwxSZ9qLH0aG",
      "execution_count": null,
      "outputs": []
    },
    {
      "cell_type": "code",
      "source": [
        "#tot4 = sum(1 for x in hand_gen2(4))\n",
        "114244/tot4"
      ],
      "metadata": {
        "colab": {
          "base_uri": "https://localhost:8080/"
        },
        "id": "rHK2MVvyHCnm",
        "outputId": "6dde2913-57d3-4e37-e5be-63ce1273f4e9"
      },
      "id": "rHK2MVvyHCnm",
      "execution_count": null,
      "outputs": [
        {
          "output_type": "execute_result",
          "data": {
            "text/plain": [
              "0.015625"
            ]
          },
          "metadata": {},
          "execution_count": 78
        }
      ]
    },
    {
      "cell_type": "markdown",
      "id": "unauthorized-topic",
      "metadata": {
        "id": "unauthorized-topic"
      },
      "source": [
        "## Write your own product\n",
        "\n",
        "So far we've been using `itertools.product`, but in the same way we wrote `permutations` and `combinations`, we can write our own `product`.\n",
        "\n",
        "If there are only two iterators, we can do it with nested `for` loops."
      ]
    },
    {
      "cell_type": "code",
      "execution_count": null,
      "id": "optional-default",
      "metadata": {
        "id": "optional-default"
      },
      "outputs": [],
      "source": [
        "def product2(it1, it2):\n",
        "    for x in it1:\n",
        "        for y in it2:\n",
        "            yield x, y"
      ]
    },
    {
      "cell_type": "markdown",
      "id": "finnish-relation",
      "metadata": {
        "id": "finnish-relation"
      },
      "source": [
        "So we can generate the cards like this."
      ]
    },
    {
      "cell_type": "code",
      "execution_count": null,
      "id": "statistical-shepherd",
      "metadata": {
        "id": "statistical-shepherd"
      },
      "outputs": [],
      "source": [
        "for t in product2(ranks, suits):\n",
        "    card = ''.join(t)\n",
        "    print(card, end=' ')"
      ]
    },
    {
      "cell_type": "markdown",
      "id": "crucial-aviation",
      "metadata": {
        "id": "crucial-aviation"
      },
      "source": [
        "Now, we might be tempted to write two-card hands like this."
      ]
    },
    {
      "cell_type": "code",
      "execution_count": null,
      "id": "incident-reaction",
      "metadata": {
        "id": "incident-reaction"
      },
      "outputs": [],
      "source": [
        "it1 = card_generator(ranks, suits)\n",
        "it2 = card_generator(ranks, suits)\n",
        "\n",
        "for hand in product2(it1, it2):\n",
        "    print(hand)\n",
        "\n",
        "# has been consumed and has to be called again"
      ]
    },
    {
      "cell_type": "markdown",
      "source": [
        "# New Section"
      ],
      "metadata": {
        "id": "ditl2whxJvon"
      },
      "id": "ditl2whxJvon"
    },
    {
      "cell_type": "markdown",
      "id": "attached-vault",
      "metadata": {
        "id": "attached-vault"
      },
      "source": [
        "But that doesn't work; it only generates the first 52 pairs.\n",
        "Before you go on, see if you can figure out why.\n",
        "\n",
        "We can solve this problem by making each iterator into a tuple; then we can loop through them more than once.\n",
        "The price we pay is that we have to store all of the elements of the iterators."
      ]
    },
    {
      "cell_type": "code",
      "execution_count": null,
      "id": "polished-tutorial",
      "metadata": {
        "id": "polished-tutorial"
      },
      "outputs": [],
      "source": [
        "def product2(it1, it2):\n",
        "    t1 = tuple(it1)\n",
        "    t2 = tuple(it2)\n",
        "    for x in t1:\n",
        "        for y in t2:\n",
        "            yield x, y"
      ]
    },
    {
      "cell_type": "markdown",
      "id": "charming-machine",
      "metadata": {
        "id": "charming-machine"
      },
      "source": [
        "This version of `product2` works if the arguments are iterators."
      ]
    },
    {
      "cell_type": "code",
      "execution_count": null,
      "id": "built-organization",
      "metadata": {
        "id": "built-organization"
      },
      "outputs": [],
      "source": [
        "it1 = card_generator(ranks, suits)\n",
        "it2 = card_generator(ranks, suits)\n",
        "\n",
        "for hand in product2(it1, it2):\n",
        "    print(hand)"
      ]
    },
    {
      "cell_type": "code",
      "execution_count": null,
      "id": "necessary-rendering",
      "metadata": {
        "id": "necessary-rendering"
      },
      "outputs": [],
      "source": [
        "it1 = card_generator(ranks, suits)\n",
        "it2 = card_generator(ranks, suits)\n",
        "\n",
        "ilen2(product2(it1, it2))"
      ]
    },
    {
      "cell_type": "markdown",
      "id": "brilliant-equilibrium",
      "metadata": {
        "id": "brilliant-equilibrium"
      },
      "source": [
        "Now let's take it up a notch. What if you want the product of more than two iterators.\n",
        "The version of `product` we got from `itertools` can handle this case."
      ]
    },
    {
      "cell_type": "code",
      "execution_count": null,
      "id": "speaking-treat",
      "metadata": {
        "scrolled": true,
        "id": "speaking-treat"
      },
      "outputs": [],
      "source": [
        "import itertools\n",
        "\n",
        "for pair in itertools.product(range(2), range(3), range(4)):\n",
        "    print(pair)"
      ]
    },
    {
      "cell_type": "markdown",
      "id": "polished-friendship",
      "metadata": {
        "id": "polished-friendship"
      },
      "source": [
        "**Exercise:** Write a generator function that takes an arbitrary number of iterables and yields their Cartesian product. Compare the results to `itertools.product`.\n",
        "\n",
        "Hint: I found it easiest to write this recursively."
      ]
    },
    {
      "cell_type": "code",
      "source": [],
      "metadata": {
        "id": "6GtgZ1OQgCDu"
      },
      "id": "6GtgZ1OQgCDu",
      "execution_count": null,
      "outputs": []
    },
    {
      "cell_type": "code",
      "source": [
        "def arg_maker2():\n",
        "  return [1, 2], ['a', 'b'], ['A', 'B'], [11, 22]\n",
        "\n",
        "def arg_maker3():\n",
        "  return [1, 2, 3], ['a', 'b', 'c'], ['A', 'B', 'C'], [11, 22, 33]\n",
        "\n"
      ],
      "metadata": {
        "id": "2pXIqk4reyC5"
      },
      "id": "2pXIqk4reyC5",
      "execution_count": 1,
      "outputs": []
    },
    {
      "cell_type": "code",
      "source": [
        "\n",
        "\n",
        "def cartesian_arb_iterative( *args):\n",
        "  # The cartesian product is a row\n",
        "\n",
        "  columns = len(args)\n",
        "\n",
        "  rows = 1\n",
        "  for arg in args:\n",
        "    rows *= len(arg)\n",
        "\n",
        "  lst1 = [ [ None for y in range(columns) ] for x in range(rows) ]\n",
        "\n",
        "  multipliers, prdct = [1], 1\n",
        "  \n",
        "  work_lst_args = args[::-1]\n",
        "  for itr in work_lst_args[:-1]:\n",
        "    prdct *= len(itr)\n",
        "    multipliers.append(prdct)\n",
        "\n",
        "  multipliers.reverse()\n",
        "  \n",
        "  args_mult = list(zip(args, multipliers))\n",
        "\n",
        "  for iterable, current_multr in args_mult[::-1]:\n",
        "    \n",
        "    row = 0\n",
        "    column = args.index(iterable)\n",
        "    print(f\"\\n\")   \n",
        "    \n",
        "    while row < rows:            # the outside loop\n",
        "\n",
        "      for element in iterable:\n",
        "        for m in range(current_multr):\n",
        "          #print(f\" row = {row}, col= {column}, element = {element}\") \n",
        "          lst1[row ][column] = element\n",
        "          row += 1\n",
        "       \n",
        "  for row in lst1:\n",
        "    #print(row)\n",
        "    yield row\n",
        "\n",
        "\n",
        "\n",
        "  # yippy!"
      ],
      "metadata": {
        "id": "-JoScauYaUHo"
      },
      "id": "-JoScauYaUHo",
      "execution_count": 17,
      "outputs": []
    },
    {
      "cell_type": "code",
      "source": [
        "l1, l2, l3, l4 = arg_maker2()\n",
        "ll1, ll2, ll3, ll4 = arg_maker3()"
      ],
      "metadata": {
        "id": "c4eL0dS8aUCA"
      },
      "id": "c4eL0dS8aUCA",
      "execution_count": 9,
      "outputs": []
    },
    {
      "cell_type": "code",
      "source": [
        "l1, ll2, l4, l2"
      ],
      "metadata": {
        "colab": {
          "base_uri": "https://localhost:8080/"
        },
        "id": "0v7ea4433dwg",
        "outputId": "0e22dbcc-61c4-4463-f594-c29d3427f9e5"
      },
      "id": "0v7ea4433dwg",
      "execution_count": 10,
      "outputs": [
        {
          "output_type": "execute_result",
          "data": {
            "text/plain": [
              "([1, 2], ['a', 'b', 'c'], [11, 22], ['a', 'b'])"
            ]
          },
          "metadata": {},
          "execution_count": 10
        }
      ]
    },
    {
      "cell_type": "code",
      "source": [
        "res = cartesian_arb_iterative( l1, l2)"
      ],
      "metadata": {
        "colab": {
          "base_uri": "https://localhost:8080/"
        },
        "id": "EPfAVgKNRgLF",
        "outputId": "110d4c30-ff6a-414d-9188-90cf52fe6fdb"
      },
      "id": "EPfAVgKNRgLF",
      "execution_count": 16,
      "outputs": [
        {
          "output_type": "stream",
          "name": "stdout",
          "text": [
            "\n",
            "\n",
            "\n",
            "\n",
            "[1, 'a']\n",
            "[1, 'b']\n",
            "[2, 'a']\n",
            "[2, 'b']\n"
          ]
        }
      ]
    },
    {
      "cell_type": "code",
      "source": [
        "res = cartesian_arb_iterative(l1, ll2, l4)"
      ],
      "metadata": {
        "colab": {
          "base_uri": "https://localhost:8080/"
        },
        "id": "LJsrXn_VaT8h",
        "outputId": "69e23ea2-53eb-47bb-e67b-34345c1f3580"
      },
      "id": "LJsrXn_VaT8h",
      "execution_count": 15,
      "outputs": [
        {
          "output_type": "stream",
          "name": "stdout",
          "text": [
            "\n",
            "\n",
            "\n",
            "\n",
            "\n",
            "\n",
            "[1, 'a', 11]\n",
            "[1, 'a', 22]\n",
            "[1, 'b', 11]\n",
            "[1, 'b', 22]\n",
            "[1, 'c', 11]\n",
            "[1, 'c', 22]\n",
            "[2, 'a', 11]\n",
            "[2, 'a', 22]\n",
            "[2, 'b', 11]\n",
            "[2, 'b', 22]\n",
            "[2, 'c', 11]\n",
            "[2, 'c', 22]\n"
          ]
        }
      ]
    },
    {
      "cell_type": "code",
      "source": [
        "list2 = [ [str(row)+str(col) for col in range(5)] for row in range(3)]"
      ],
      "metadata": {
        "id": "6zPMLO4KPeE4"
      },
      "id": "6zPMLO4KPeE4",
      "execution_count": 7,
      "outputs": []
    },
    {
      "cell_type": "code",
      "source": [
        "for r in list2:\n",
        "  print(r)"
      ],
      "metadata": {
        "id": "XyVVTOHfPd_g",
        "colab": {
          "base_uri": "https://localhost:8080/"
        },
        "outputId": "73c43b01-b673-47d7-d2d9-c9e677d380cc"
      },
      "id": "XyVVTOHfPd_g",
      "execution_count": 3,
      "outputs": [
        {
          "output_type": "stream",
          "name": "stdout",
          "text": [
            "['00', '01', '02', '03', '04']\n",
            "['10', '11', '12', '13', '14']\n",
            "['20', '21', '22', '23', '24']\n"
          ]
        }
      ]
    },
    {
      "cell_type": "markdown",
      "id": "a2607425",
      "metadata": {
        "tags": [],
        "id": "a2607425"
      },
      "source": [
        "*Data Structures and Information Retrieval in Python*\n",
        "\n",
        "Copyright 2021 Allen Downey\n",
        "\n",
        "License: [Creative Commons Attribution-NonCommercial-ShareAlike 4.0 International](https://creativecommons.org/licenses/by-nc-sa/4.0/)"
      ]
    }
  ],
  "metadata": {
    "kernelspec": {
      "display_name": "Python 3 (ipykernel)",
      "language": "python",
      "name": "python3"
    },
    "language_info": {
      "codemirror_mode": {
        "name": "ipython",
        "version": 3
      },
      "file_extension": ".py",
      "mimetype": "text/x-python",
      "name": "python",
      "nbconvert_exporter": "python",
      "pygments_lexer": "ipython3",
      "version": "3.10.1"
    },
    "colab": {
      "provenance": [],
      "include_colab_link": true
    }
  },
  "nbformat": 4,
  "nbformat_minor": 5
}