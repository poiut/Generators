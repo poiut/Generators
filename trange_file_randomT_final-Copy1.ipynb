{
 "cells": [
  {
   "cell_type": "code",
   "execution_count": 2,
   "metadata": {},
   "outputs": [],
   "source": [
    "from random import uniform"
   ]
  },
  {
   "cell_type": "code",
   "execution_count": null,
   "metadata": {},
   "outputs": [],
   "source": [
    "#The T range is:  10.0 < T < 25.0\n",
    "# start is 6:00:00, increment is 90 seconds, on the file not in the function."
   ]
  },
  {
   "cell_type": "code",
   "execution_count": 3,
   "metadata": {},
   "outputs": [],
   "source": [
    "\n",
    "\n",
    "def tr(start, stop, step):    # these are 3-tuples\n",
    "    \"\"\"Function that calculats three-time tuples.  It has option for reset to start-tuple.\n",
    "        \n",
    "    \"\"\"\n",
    "    i = 0\n",
    "    end = [ stop[0], stop[1], stop[2] ]\n",
    "    timeTu = [ start ]        #it is called timeTu but It is a LIST\n",
    "    \n",
    "    #list of tuples bec. the indices are used to add/calculate.  The gen/r yields tuples\n",
    "      \n",
    "    while ( timeTu[i][0] < stop[0] ):   #  variable stopping point (hours)\n",
    "               \n",
    "        timeTu.append([0, 0, 0]) \n",
    "        message = yield (timeTu[i])     #  this is the reset step \n",
    "        if message != None:\n",
    "            print(timeTu)\n",
    "            i = 0\n",
    "            timeTu = [ start ]   # there is a message, go back to (6, 0, 0) \n",
    "            print(timeTu)\n",
    "            \n",
    "        else:                    # no message to reset, keep going         \n",
    "        \n",
    "            i += 1 \n",
    "        \n",
    "            if timeTu[i-1][2] + step[2] >= 60:\n",
    "                timeTu[i][0] = timeTu[i-1][0]                     # carry over the hours \n",
    "                timeTu[i][1] = timeTu[i-1][1] + step[1] + 1       #step[1] +1 to mins\n",
    "                if timeTu[i][1] >= 60:                            #if sum > 60 mins \n",
    "                    timeTu[i][0] = timeTu[i-1][0] + 1             # 1 + hours\n",
    "                    timeTu[i][1] = timeTu[i][1] % 60\n",
    "                timeTu[i][2] = ( timeTu[i-1][2] + step[2] ) % 60  # remainder secs to ith \n",
    "                timeTu[i] = tuple(timeTu[i])                      # and now it's a tuple :D\n",
    "                \n",
    "        \n",
    "            else:   # if seconds + 12 < 60\n",
    "                timeTu[i][2] = timeTu[i-1][2] + step[2]         # just new entry for secs, \n",
    "                timeTu[i][1] = timeTu[i-1][1] + step[1]         # new mins entry\n",
    "                timeTu[i][0] = timeTu[i-1][0]                   # carry over the hours \n",
    "                if timeTu[i][1] >= 60:                          # check for limit\n",
    "                    timeTu[i][0] = timeTu[i-1][0] + 1           # hours + 1  \n",
    "                    timeTu[i][1] = timeTu[i][1] % 60            # mins % 60\n",
    "                timeTu[i] = tuple(timeTu[i])                    # and this is a tuple as well\n",
    "                   \n",
    "            \n"
   ]
  },
  {
   "cell_type": "code",
   "execution_count": 76,
   "metadata": {},
   "outputs": [
    {
     "name": "stdout",
     "output_type": "stream",
     "text": [
      "06:00:00  16.6\n",
      "\n",
      "06:01:30  19.0\n",
      "\n",
      "06:03:00  17.8\n",
      "\n",
      "06:04:30  12.4\n",
      "\n",
      "06:06:00  22.4\n",
      "\n",
      "06:07:30  18.1\n",
      "\n",
      "06:09:00  24.8\n",
      "\n",
      "06:10:30  23.0\n",
      "\n",
      "06:12:00  20.3\n",
      "\n",
      "06:13:30  11.2\n",
      "\n",
      "06:15:00  23.9\n",
      "\n",
      "06:16:30  10.9\n",
      "\n",
      "06:18:00  16.1\n",
      "\n",
      "06:19:30  21.2\n",
      "\n",
      "06:21:00  16.4\n",
      "\n",
      "06:22:30  16.1\n",
      "\n",
      "06:24:00  24.1\n",
      "\n",
      "06:25:30  10.5\n",
      "\n",
      "06:27:00  16.2\n",
      "\n",
      "06:28:30  22.6\n",
      "\n",
      "06:30:00  19.1\n",
      "\n",
      "06:31:30  23.8\n",
      "\n",
      "06:33:00  22.0\n",
      "\n",
      "06:34:30  19.5\n",
      "\n",
      "06:36:00  19.7\n",
      "\n",
      "06:37:30  23.7\n",
      "\n",
      "06:39:00  21.0\n",
      "\n",
      "06:40:30  22.9\n",
      "\n",
      "06:42:00  15.8\n",
      "\n",
      "06:43:30  22.0\n",
      "\n",
      "06:45:00  13.2\n",
      "\n",
      "06:46:30  19.4\n",
      "\n",
      "06:48:00  24.8\n",
      "\n",
      "06:49:30  15.5\n",
      "\n",
      "06:51:00  17.2\n",
      "\n",
      "06:52:30  20.7\n",
      "\n",
      "06:54:00  11.6\n",
      "\n",
      "06:55:30  18.4\n",
      "\n",
      "06:57:00  23.8\n",
      "\n",
      "06:58:30  16.6\n",
      "\n"
     ]
    }
   ],
   "source": [
    "\n",
    "if __name__ == '__main__':\n",
    "\n",
    "    start1 = (6, 0, 0)\n",
    "    end1 = (7, 00, 0)\n",
    "    step1 = (0, 0, 30)\n",
    "\n",
    "    tr1 = tr(start1, end1, step1) \n",
    "\n",
    "\n",
    "    with open(\"fnl_file1.txt\", \"w\") as ff1:\n",
    "        i = 0\n",
    "        for x in tr1:\n",
    "            if i%3 == 0:\n",
    "                temp = uniform(10.0, 25.0)\n",
    "                print(f\"{str(x[0]).zfill(2)}:{str(x[1]).zfill(2)}:{str(x[2]).zfill(2)} {temp: 3.1f}\\n\" )\n",
    "                ff1.write(f\"{str(x[0]).zfill(2)}:{str(x[1]).zfill(2)}:{str(x[2]).zfill(2)} {temp: 3.1f}\\n\" )\n",
    "            \n",
    "            i += 1"
   ]
  },
  {
   "cell_type": "code",
   "execution_count": null,
   "metadata": {},
   "outputs": [],
   "source": []
  },
  {
   "cell_type": "code",
   "execution_count": 72,
   "metadata": {},
   "outputs": [
    {
     "name": "stdout",
     "output_type": "stream",
     "text": [
      "Before import\n",
      "before functA\n",
      "before func B\n",
      "before __name__guard\n",
      "Hello from func A\n",
      "Func B 10.0\n",
      "after the __name__guard\n"
     ]
    }
   ],
   "source": [
    "print(\"Before import\")\n",
    "import math\n",
    "\n",
    "print(\"before functA\")\n",
    "def funcA():\n",
    "    print(\"Hello from func A\")\n",
    "    \n",
    "print(\"before func B\")\n",
    "def funcB():\n",
    "    print(f\"Func B {math.sqrt(100)}\" )\n",
    "    \n",
    "print(\"before __name__guard\")\n",
    "\n",
    "    \n",
    "\n"
   ]
  },
  {
   "cell_type": "code",
   "execution_count": 74,
   "metadata": {},
   "outputs": [
    {
     "name": "stdout",
     "output_type": "stream",
     "text": [
      "Hello from func A\n",
      "Func B 10.0\n",
      "after the __name__guard\n"
     ]
    }
   ],
   "source": [
    "if __name__=='__main__':\n",
    "    funcA()\n",
    "    funcB()\n",
    "    print(\"after the __name__guard\")\n"
   ]
  }
 ],
 "metadata": {
  "kernelspec": {
   "display_name": "Python 3",
   "language": "python",
   "name": "python3"
  },
  "language_info": {
   "codemirror_mode": {
    "name": "ipython",
    "version": 3
   },
   "file_extension": ".py",
   "mimetype": "text/x-python",
   "name": "python",
   "nbconvert_exporter": "python",
   "pygments_lexer": "ipython3",
   "version": "3.7.0"
  }
 },
 "nbformat": 4,
 "nbformat_minor": 2
}
